{
 "metadata": {
  "language_info": {
   "codemirror_mode": {
    "name": "ipython",
    "version": 3
   },
   "file_extension": ".py",
   "mimetype": "text/x-python",
   "name": "python",
   "nbconvert_exporter": "python",
   "pygments_lexer": "ipython3",
   "version": "3.9.0"
  },
  "orig_nbformat": 2,
  "kernelspec": {
   "name": "python390jvsc74a57bd0bf63197e18615f05776a70b419d88392e376dd812557271e8682981eca3cdf9c",
   "display_name": "Python 3.9.0 64-bit ('unidata': conda)"
  }
 },
 "nbformat": 4,
 "nbformat_minor": 2,
 "cells": [
  {
   "cell_type": "markdown",
   "source": [
    "# 3 Data Collection - Measurements\n",
    "\n",
    "## 3.1 Considerations for a successful measurement campaing\n",
    "\n",
    "### 3.1.1 Defining scope of measurement campaign\n",
    "\n",
    "Balance between ideal case and tolerable uncertaities.\n",
    "\n",
    "1. Project boundary, restrictions,\n",
    "2. Schedule, measurement at least on year\n",
    "3. Instrument suitability\n",
    "\n",
    "### 3.1.2 Selection of instrumentation\n",
    "\n",
    "Robust, storage\n",
    "\n",
    "### 3.1.3 Spatial and temporal requirements\n",
    "\n",
    "Spatial, size, complexity,\n",
    "\n",
    "Temporal: At least one year, preferably two years to assess the inter-annual varibality\n",
    "\n",
    "Consultation with an experienced metocean expert.\n",
    "\n",
    "Simutanous wind, wave and current measurements\n",
    "\n",
    "\n",
    "### 3.1.4 Instrumentation deployment and recovery\n",
    "\n",
    "* Schedule permitting of stakeholders\n",
    "* Consideration time for validation, calibration, commisioning\n",
    "* Maintenance and inspection\n",
    "* Notify mariners (_a marker may get undesirable attention, may get stolen, a bed-seated device could be better_ ) \n",
    "* HSE\n",
    "* Storage, retrival\n",
    "* Decommission\n",
    "\n",
    "### 3.1.5 Instrumentation operations and maintenance\n",
    "\n",
    "* Clock synchronisation\n",
    "* Routine maintenance, HSE, Calibration expires\n",
    "* Maintenance record\n",
    "    * Inspection date and time \n",
    "    * Condtions of equipment and structures before & after inspection and maintenances\n",
    "    * Date and time of repairs or replacements\n",
    "* Photos as documentation"
   ],
   "metadata": {}
  },
  {
   "cell_type": "markdown",
   "source": [
    "# 3.2 Wind\n",
    "\n",
    "# 3.2.1 Wind measuring instruments\n",
    "\n",
    "# 3.2.1.1 Anemometers\n",
    "\n",
    "An [anemometer](https://en.wikipedia.org/wiki/Anemometer) is a device used for measuring wind speed and direction\n",
    "\n",
    "* Cup anemometer\n",
    "\n",
    "    * Frequency: 1 Hz, \n",
    "    * 10-minute records of average, max, min, and Standard Deviation, Gust(3-second max)\n",
    "    * Calibration\n",
    "    * Uncertainty\n",
    "    * Replace biannually(calibration expires)\n",
    "    * Physical damage or icing\n",
    "\n",
    "* Prop anemometer\n",
    "    * measures u and v \n",
    "    * maybe used to measure w\n",
    "* Sonic anemometer\n",
    "    * 2d(uv) or 3d(uvw) measurement, WD, temp\n",
    "    * Calibration\n",
    "    * Power\n",
    "    * ice and precipitation\n",
    "\n",
    "#### 3.2.1.2 Wind vanes\n",
    "\n",
    "[Vanes](https://en.wikipedia.org/wiki/Weather_vane) measure wind direction\n",
    "\n",
    "#### 3.2.1.3 Sodars\n",
    "\n",
    "[Sonic detection and ranging (sodar)](https://www.arm.gov/publications/tech_reports/handbooks/sodar_handbook.pdf)\n",
    "\n",
    "\n",
    "#### 3.2.1.4 Lidars\n",
    "\n",
    "**Vertical Lidar**\n",
    "A light detection and ranging (lidar) system: [What is lidar?](https://oceanservice.noaa.gov/facts/lidar.html)\n",
    "\n",
    "* Validation\n",
    "* Expensive and onerous power requirement\n",
    "\n",
    "**Scanning lidar**\n",
    "\n",
    "measure the wind speeds several kilometers across a site at several scanning heights above the sea\n",
    "\n",
    "**Floating lidar**\n",
    "\n",
    "Floating lidar devices (FLDs) \n",
    "\n",
    "Calibration and validation\n",
    "\n",
    "Now is widely used. Refer to [Offshorewind.rvo.nl: Full campaign report April 2017 - April 2019 Fugro&Deltares](https://offshorewind.rvo.nl/file/view/55040230/Full+campaign+report+April+2017+-+April+2019++Fugro%26amp%3BDeltares)\n",
    "\n",
    "\n",
    "Summary Table 3-1\n",
    "\n",
    "#### 3.2.1.5 Radar\n",
    "\n",
    "Doppler radars, still in the research phase\n",
    "\n",
    "#### 3.2.1.6 Comparison of wind instruments applications\n",
    "\n"
   ],
   "metadata": {}
  },
  {
   "cell_type": "markdown",
   "source": [
    "# 3.3 Waves"
   ],
   "metadata": {}
  },
  {
   "cell_type": "markdown",
   "source": [
    "# 3.4 Currents"
   ],
   "metadata": {}
  },
  {
   "cell_type": "markdown",
   "source": [
    "# 3.5 Water Levels"
   ],
   "metadata": {}
  },
  {
   "cell_type": "markdown",
   "source": [
    "# 3.6 Other parameters"
   ],
   "metadata": {}
  },
  {
   "cell_type": "markdown",
   "source": [
    "# 3.7 Satellite measurements"
   ],
   "metadata": {}
  },
  {
   "cell_type": "markdown",
   "source": [
    "# 3.8 Quality control and data management"
   ],
   "metadata": {}
  },
  {
   "cell_type": "markdown",
   "source": [
    "# 3.9 Reporting requirement"
   ],
   "metadata": {}
  }
 ]
}