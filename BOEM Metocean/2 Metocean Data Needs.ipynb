{
 "metadata": {
  "language_info": {
   "codemirror_mode": {
    "name": "ipython",
    "version": 3
   },
   "file_extension": ".py",
   "mimetype": "text/x-python",
   "name": "python",
   "nbconvert_exporter": "python",
   "pygments_lexer": "ipython3",
   "version": "3.9.0"
  },
  "orig_nbformat": 2,
  "kernelspec": {
   "name": "python390jvsc74a57bd0bf63197e18615f05776a70b419d88392e376dd812557271e8682981eca3cdf9c",
   "display_name": "Python 3.9.0 64-bit ('unidata': conda)"
  }
 },
 "nbformat": 4,
 "nbformat_minor": 2,
 "cells": [
  {
   "cell_type": "markdown",
   "source": [
    "# 2 Metocean data needs\n",
    "\n",
    "Site-specific metocean conditions\n",
    "* Atmospheric coditions\n",
    "* Marine conditions\n",
    "\n",
    "**Regulation requirement**\n",
    "\n",
    "## 2.1 Planning\n",
    "\n",
    "### 2.1.1 Overview\n",
    "\n",
    "Regulation\n",
    "\n",
    "Publicly available metocean datasets.\n",
    "* [The Wind Prospector](https://maps.nrel.gov/wind-prospector/?aL=MlB4Hk%255Bv%255D%3Dt%26VMGtY3%255Bv%255D%3Dt%26VMGtY3%255Bd%255D%3D1&bL=clight&cE=0&lR=0&mC=40.21244%2C-91.625976&zL=4)\n",
    "* [MarineCadastre.gov](https://marinecadastre.gov/)\n",
    "* [Northeast Ocean Data Portal](https://www.northeastoceandata.org/)\n",
    "* [Mid-Atlantic Ocean Data Portal](https://portal.midatlanticocean.org/)\n",
    "* [S Met-Ocean Data Center for Offshore Renewable Energy](http://www.usmodcore.com/)\n"
   ],
   "metadata": {}
  },
  {
   "cell_type": "markdown",
   "source": [
    "### 2.1.2 Resource assessment and energy yield\n",
    "\n",
    "Wind parameters\n",
    "\n",
    "Quality of data: calibration and cross-checking; Temporal variablity; long-term vs. short-term\n",
    "\n",
    "Project losses\n",
    "\n",
    "Turbine options, basic layout\n",
    "\n",
    "Relevant guidance: IEC 61400-15-1; MEASNET ESSWC\n",
    "\n",
    "### 2.1.3 Feasibility assessment and conceptual design\n",
    "\n",
    "### 2.1.4 Permitting and environmental impact analysis\n",
    "\n",
    "## 2.2 Design\n",
    "\n",
    "Normal and Extreme\n",
    "\n",
    "### 2.2.1 Overview of project requirements\n",
    "\n",
    "### 2.2.2 Wind conditions\n",
    "\n",
    "#### 2.2.2.1 Wind Data\n",
    "\n",
    "#### 2.2.2.2 Normal wind conditions\n",
    "\n",
    "\n",
    "#### 2.2.2.3 Extreme wind conditions"
   ],
   "metadata": {}
  },
  {
   "cell_type": "markdown",
   "source": [
    "### 2.2.3 Marine conditions\n",
    "\n",
    "#### 2.2.3.1 Waves\n",
    "\n",
    "#### 2.2.3.2 Currents\n",
    "\n",
    "#### 2.2.3.3 Water levels\n",
    "\n",
    "#### 2.2.3.4 Marine data\n",
    "\n",
    "#### 2.2.3.5 Normal marine conditions\n",
    "\n",
    "#### 2.2.3.6 Extreme marine conditions\n",
    "\n",
    "### 2.2.4 Wind and wave correlation\n",
    "\n",
    "#### 2.2.4.1 Wind and wave data for correlation\n",
    "\n",
    "#### 2.2.4.2 Normal joint wind-wave conditions\n",
    "\n",
    "#### 2.2.4.3 Extreme joint wind-wave conditions\n",
    "\n",
    "### 2.2.5 Extreme tropical cyclone design conditions\n",
    "\n",
    "#### 2.2.5.1 Wind\n",
    "\n",
    "#### 2.2.5.2 Wave\n",
    "\n",
    "#### 2.2.5.3 Current and water levels\n",
    "\n",
    "### 2.2.6 Other metocean parameters\n",
    "\n",
    "#### 2.2.6.1 Bathymetry and seabed changes (global scour) including vertical reference\n",
    "\n",
    "#### 2.2.6.2 Wave breaking\n",
    "\n",
    "#### 2.2.6.3 Sea ice\n",
    "\n",
    "#### 2.2.6.4 Ice from precipitation/sea spray\n",
    "\n",
    "#### 2.2.6.5 Marine growth\n",
    "\n",
    "### 2.2.7 Climate change considerations\n",
    "\n",
    "### 2.2.8 Further considerations\n",
    "\n",
    "### 2.2.9 Summary, the metocean data\n",
    "\n",
    "\n"
   ],
   "metadata": {}
  },
  {
   "cell_type": "markdown",
   "source": [
    "\n",
    "## 2.3 Tranport and installation\n",
    "### 2.3.1 Overview of project requirements\n",
    "\n",
    "### 2.3.2 Installation planning\n",
    "\n",
    "#### 2.3.2.1 Downtime analysis\n",
    "\n",
    "#### 2.3.2.2 Seasonal variability at site\n",
    "\n",
    "### 2.3.3 Installation execution\n",
    "\n",
    "#### 2.3.3.1 Real-time monitoring\n",
    "\n",
    "#### 2.3.3.2 Forecast\n",
    "\n"
   ],
   "metadata": {}
  },
  {
   "cell_type": "markdown",
   "source": [
    "### 2.4 Operation and maintenance\n",
    "\n",
    "### 2.4.1 Overview of project requirement\n",
    "\n",
    "### 2.4.2 Real time monitoring and forecasting\n",
    "\n"
   ],
   "metadata": {}
  },
  {
   "cell_type": "markdown",
   "source": [
    "## 2.5 Decommissioning\n",
    "\n"
   ],
   "metadata": {}
  }
 ]
}