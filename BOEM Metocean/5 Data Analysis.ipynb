{
 "metadata": {
  "language_info": {
   "codemirror_mode": {
    "name": "ipython",
    "version": 3
   },
   "file_extension": ".py",
   "mimetype": "text/x-python",
   "name": "python",
   "nbconvert_exporter": "python",
   "pygments_lexer": "ipython3",
   "version": "3.9.0"
  },
  "orig_nbformat": 2,
  "kernelspec": {
   "name": "python390jvsc74a57bd0bf63197e18615f05776a70b419d88392e376dd812557271e8682981eca3cdf9c",
   "display_name": "Python 3.9.0 64-bit ('unidata': conda)"
  }
 },
 "nbformat": 4,
 "nbformat_minor": 2,
 "cells": [
  {
   "cell_type": "markdown",
   "source": [
    "# 5 Data Anlysis - Interpretation"
   ],
   "metadata": {}
  },
  {
   "cell_type": "markdown",
   "source": [
    "## 5.1 Wind\n",
    "\n",
    "Reference: DNVGL-ST-0437, IEC 61400-1, IEC 61400- 3, and API RP 2A-WSD.\n",
    "### 5.1.1 Wind speed distribution and roses\n",
    "Weibull distribution can be assumed for arbitrary 10-minute mean wind speed U<sub>10</sub>\n",
    "\n",
    "$F_{U_{10}}(u)=1-\\exp \\left(-\\left(\\frac{u}{A}\\right)^{k}\\right)$\n",
    "\n",
    "A: scale parameter\n",
    "k: shape parameter\n",
    "\n",
    "The long-term probability distributions for the wind climate parameters U10 and σU \n",
    "* A typical generic long-term distribution representation consists of a Weibull distribution for the 10-minute mean wind speed U10 as given above, in conjunction with a lognormal or Weibull distribution of $\\sigma_U$ conditional on $U_{10}$ (reference is made to for example IEC 61400-1)\n",
    "* A scatter diagram provides the frequency of occurrence of given pairs ($U_{10}$ , $\\sigma_U$) in a given discretization of the ($U_{10}$ , $\\sigma_U$) space.\n",
    "\n",
    "**Wind Rose**\n",
    "\n",
    "\n",
    "### 5.1.2 Wind speed averaging period\n",
    "\n",
    "Long-term probabiliti distribution ow **mean wind speed** can be assumed independent of averaging period.\n",
    "\n",
    "**extreme wind speeds** : the longer the averaging period, the smaller the associated extreme wind speed\n",
    "\n",
    "Conversion factor:  10min 1.00, 1h 0.95, 3h 0.9.\n",
    "\n",
    "### 5.1.3 Vertical wind profile, wind shear\n",
    "\n",
    "Wind speed profile\n",
    "\n",
    "Power law (IEC 61400-1)\n",
    "\n",
    "$U(z)=U\\left(z_{r e f}\\right) \\cdot\\left(\\frac{z}{z_{r e f}}\\right)^{\\alpha_{w}}$\n",
    "\n",
    "Wind shear coeefficient $\\alpha_{w}$ expresses the vertical mixing, vary seasonally...\n",
    "\n",
    "\n",
    "To estimate the extreme shear, analyses are performed for high wind speeds only.\n",
    "\n",
    "In IEC 61400-3 $\\alpha_{w}$ 0.14 for normal wind and  0.11 for extreme wind\n",
    "\n",
    "In API RP 2A-WSD and DNVGL-RP-C205\n",
    "\n",
    "Frøya wind profile model \n",
    "\n",
    "$U(T, z)=U_{0} \\cdot\\left\\{1+C \\cdot \\ln \\frac{z}{H}\\right\\} \\cdot\\left\\{1-0.41 \\cdot I_{U}(z) \\ln \\frac{T}{T_{0}}\\right\\}$\n",
    "\n",
    "where $H=10 \\mathrm{~m}, T_{0}=1$ hour and $T<T_{0}$, where\n",
    "\n",
    "$C=5.73 \\cdot 10^{-2} \\sqrt{1+0.148 U_{0}}$\n",
    "\n",
    "$I_{U}=0.06 \\cdot\\left(1+0.043 U_{0}\\right) \\cdot\\left(\\frac{z}{H}\\right)^{-0.22}$\n"
   ],
   "metadata": {}
  },
  {
   "cell_type": "markdown",
   "source": [
    "### 5.1.4 Examples of wind-data correlations and corrections\n",
    "Linear regression MCP\n",
    "\n",
    "Mean-of-Monthly-Means method\n",
    "\n",
    "\n",
    "### 5.1.5 Turbulence\n",
    "\n",
    "\n",
    "#### 5.1.5.1 Wake effects: effective turbulence and maximum center wake\n",
    "\n",
    "#### 5.1.5.2 Extreme turbulence\n"
   ],
   "metadata": {}
  },
  {
   "cell_type": "markdown",
   "source": [
    "## 5.2 Waves"
   ],
   "metadata": {}
  },
  {
   "cell_type": "markdown",
   "source": [
    "## 5.3 Current"
   ],
   "metadata": {}
  },
  {
   "cell_type": "markdown",
   "source": [
    "## 5.4 Water level"
   ],
   "metadata": {}
  },
  {
   "cell_type": "markdown",
   "source": [
    "## 5.5 Joint conditions"
   ],
   "metadata": {}
  },
  {
   "cell_type": "markdown",
   "source": [
    "## 5.6 Extreme conditions"
   ],
   "metadata": {}
  },
  {
   "cell_type": "markdown",
   "source": [
    "## 5.7 Tropical cyclone conditions"
   ],
   "metadata": {}
  },
  {
   "cell_type": "markdown",
   "source": [
    "## 5.8 Downtime analysis – waiting on weather"
   ],
   "metadata": {}
  },
  {
   "cell_type": "markdown",
   "source": [
    "## 5.9 Reporting requirements"
   ],
   "metadata": {}
  }
 ]
}