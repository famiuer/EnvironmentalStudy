{
 "cells": [
  {
   "cell_type": "markdown",
   "metadata": {},
   "source": [
    "# 1 General\n",
    "\n",
    "## 1.1 Introduction\n",
    "\n",
    "## 1.2 Objectives\n",
    "\n",
    "* Guidance\n",
    "* Method\n",
    "* Compliance (Federal Regulations) _Very \"lawful\"_\n",
    "\n",
    "## 1.3 Scope and application\n",
    "\n",
    "### Phenomena\n",
    "* Movement of waters - levels and flows\n",
    "* Wind conditions\n",
    "* Sea states - waves\n",
    "* Atmospheric paramters\n",
    "* Physical ocean parameters\n",
    "\n",
    "### Guidance\n",
    "\n",
    "* General metocean climate for fatigue assessment\n",
    "* Extreme conditions\n",
    "* Operational/ Downtime\n",
    "\n",
    "### Limitation\n",
    "\n",
    "* Energy yield analysis\n",
    "* Not applicable under state jurisdiction( e.g., the Great Lakes) _Policies differ even in the U.S._"
   ]
  },
  {
   "cell_type": "markdown",
   "metadata": {},
   "source": [
    "## 1.4 Alternative\n",
    "\n",
    "## 1.5 Structure\n",
    "\n",
    "## 1.6 Reference\n",
    "### 1.6.1\n",
    "Latest versions shall prevail.\n",
    "\n",
    "\n",
    "### 1.6.2\n",
    "Alphabetical\n",
    "\n",
    "* API: Hurricane conditions in the Mexcio; RP 2MET; RP 2A-WSD \n",
    "* Carbone Trust: Floating LIDAR;\n",
    "* **DNV**: Certification; Operation; Transportation; Design(Floating, Support structures,Substations, Load, Cable, RP)\n",
    "* **IEC**: Design(Offshore); Power performance;\n",
    "* ISO: Test; Specific requirement for offshore structures\n",
    "* TAP: Design;\n",
    "* WMO: Prediction and forcasting; Instruments and observation\n",
    "* MEASNET: Wind conditions\n",
    "\n",
    "❗ _**Some may outdated**_\n",
    "### 1.6.3 Other references\n",
    "\n",
    "## 1.7 Definitions\n",
    "### 1.7.1\n",
    "\n",
    "shall, should, may\n",
    "\n",
    "### 1.7.2 Definitions\n",
    "\n",
    "## 1.8 Abbreviations and symbols\n"
   ]
  }
 ],
 "metadata": {
  "kernelspec": {
   "display_name": "Python 3",
   "language": "python",
   "name": "python3"
  },
  "language_info": {
   "codemirror_mode": {
    "name": "ipython",
    "version": 3
   },
   "file_extension": ".py",
   "mimetype": "text/x-python",
   "name": "python",
   "nbconvert_exporter": "python",
   "pygments_lexer": "ipython3",
   "version": "3.9.4"
  }
 },
 "nbformat": 4,
 "nbformat_minor": 4
}
