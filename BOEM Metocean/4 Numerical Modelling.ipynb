{
 "metadata": {
  "language_info": {
   "codemirror_mode": {
    "name": "ipython",
    "version": 3
   },
   "file_extension": ".py",
   "mimetype": "text/x-python",
   "name": "python",
   "nbconvert_exporter": "python",
   "pygments_lexer": "ipython3",
   "version": "3.9.0"
  },
  "orig_nbformat": 2,
  "kernelspec": {
   "name": "python390jvsc74a57bd0bf63197e18615f05776a70b419d88392e376dd812557271e8682981eca3cdf9c",
   "display_name": "Python 3.9.0 64-bit ('unidata': conda)"
  }
 },
 "nbformat": 4,
 "nbformat_minor": 2,
 "cells": [
  {
   "cell_type": "markdown",
   "source": [
    "#  3 Numerical Modelling\n",
    "\n",
    "shall be calibrated and compared with measurements to verify and justify\n",
    "\n",
    "A key interaction is the transfer of energy between the wind blowing over the ocean surface and the ocean's upper layer\n",
    "\n",
    "Hindcast\n",
    "The atmospheric model is run first to provide the near surface meteorological conditions (wind is the primary forcing mechanism for ocean surface waves), which feed into ocean surface models to characterize the surface sea state and currents, including wave spectra and transport.\n",
    "\n",
    "\n",
    "Forecasting\n",
    "* Deterministic forecast – a single prediction for a future period\n",
    "* Probabilistic or ensemble forecast – multiple predictions for a future period.\n",
    "\n",
    "\n",
    "# 4.1 Type of numerical models\n",
    "# 4.1.1 Atmospheric Models\n",
    "\n",
    "Mesocale model 1km to a few hundred km, a few minutes to a few days\n",
    "\n",
    "**Weather Research and Forecasting (WRF) model** supported by NCAR\n",
    "\n",
    "Hindcasting\n",
    "\n",
    "* Skiron regional atmospheric system, by University of Athens, Greece, \n",
    "* the Unified Model by the UK Met Office, \n",
    "* the Netherland Weather Service HIRLAM (High Resolution Limited Area Model)\n",
    "* the Météo-France AROME model (Applications of Research to Operations at Mesoscale).\n",
    "\n",
    "\n",
    "* Forecast mode to predict the future weather conditions from an hour ahead to several days ahead. \n",
    "* “Dynamical downscaling” mode to produce a “reanalysis” (hindcast). \n",
    "\n",
    "The most important is near-surface WS & WD\n",
    "\n",
    "There are well- established best practices which have been codified in the following publications\n",
    "[Numerical Weather and Climate Prediction](https://www.cambridge.org/core/books/numerical-weather-and-climate-prediction/48312A47D19038F6503BB4E69D3B03A6), by Thomas Tomkins Warner, 2011, Cambridge University Press, 550 pp. ISBN: 9780521513890.\n",
    "\n",
    "[Quality Assurance in Atmospheric Modeling](https://journals.ametsoc.org/view/journals/bams/92/12/bams-d-11-00054_1.xml), by Thomas T. Warner, Bulletin of the American\n",
    "Meteorological Society, 2011, pp. 1601-1610\n",
    "\n",
    "The most relevant best practices \n",
    "\n",
    "* Use a well-documented and validated mesoscale atmospheric model.\n",
    "* Use high quality input data sets.\n",
    "    * Reanalysis:Now ERA5 and CFS(v2);Before MERRA-2, ERA-Intrim\n",
    "    * Terrain, landmask, SST\n",
    "    * Soil\n",
    "* Use the highest possible spatial and temporal resolution.\n",
    "    * Caution: Some very fine(100-200 m) are often no more accurate than mesoscale simulations with horizontal grid increments of 1-3 km resolution\n",
    "* Use a long simulation period to capture the full spectrum of weather and climate conditions.\n",
    "* Ensure the modeling team has the requisite expertise and experience.\n",
    "\n",
    "### 4.1.2 Wave models\n",
    "\n",
    "#### 4.1.2.1 Wave spectral model\n",
    "\n",
    "#### 4.1.2.2 Phase resolving model\n"
   ],
   "metadata": {}
  },
  {
   "cell_type": "markdown",
   "source": [
    "### 4.1.3 Ocean models\n",
    "\n"
   ],
   "metadata": {}
  },
  {
   "cell_type": "markdown",
   "source": [
    "## 4.2 Numerical modelling at the site\n",
    "\n",
    "### 4.2.1 Wind modelling\n",
    "\n",
    "\n",
    "### 4.2.2 HydroDynamic (HD) current and water level modelling\n",
    "\n",
    "\n",
    "### 4.2.3 Wave modelling\n",
    "\n",
    "#### 4.2.3.1 Morphologically active area\n",
    "\n",
    "\n",
    "### 4.2.4 Model calibration\n",
    "\n",
    "### 4.2.5 Model correction"
   ],
   "metadata": {}
  },
  {
   "cell_type": "markdown",
   "source": [
    "## 4.3 Tropical cyclone and extra-tropical cyclone conditions\n",
    "\n",
    "\n",
    "\n",
    "### 4.3.1 Parametric models"
   ],
   "metadata": {}
  },
  {
   "cell_type": "markdown",
   "source": [
    "### 4.3.2 Mesoscale modelling"
   ],
   "metadata": {}
  },
  {
   "cell_type": "markdown",
   "source": [
    "### 4.3.3 Tropical cyclone waves"
   ],
   "metadata": {}
  },
  {
   "cell_type": "markdown",
   "source": [
    "### 4.3.4 Synthetic storms and Monte Carlo simulations"
   ],
   "metadata": {}
  }
 ]
}