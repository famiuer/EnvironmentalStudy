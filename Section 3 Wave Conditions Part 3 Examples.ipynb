{
 "metadata": {
  "language_info": {
   "codemirror_mode": {
    "name": "ipython",
    "version": 3
   },
   "file_extension": ".py",
   "mimetype": "text/x-python",
   "name": "python",
   "nbconvert_exporter": "python",
   "pygments_lexer": "ipython3",
   "version": "3.9.0"
  },
  "orig_nbformat": 2,
  "kernelspec": {
   "name": "python390jvsc74a57bd0bf63197e18615f05776a70b419d88392e376dd812557271e8682981eca3cdf9c",
   "display_name": "Python 3.9.0 64-bit ('unidata': conda)"
  }
 },
 "nbformat": 4,
 "nbformat_minor": 2,
 "cells": [
  {
   "source": [
    "## Wave conditions examples\n",
    "\n",
    "input file: long term time series"
   ],
   "cell_type": "markdown",
   "metadata": {}
  },
  {
   "cell_type": "code",
   "execution_count": 7,
   "metadata": {},
   "outputs": [],
   "source": [
    "import pandas as pd\n",
    "import numpy as np\n"
   ]
  },
  {
   "cell_type": "code",
   "execution_count": 8,
   "metadata": {},
   "outputs": [],
   "source": [
    "MetoceanData = pd.read_pickle('H1.pkl')"
   ]
  },
  {
   "cell_type": "code",
   "execution_count": 9,
   "metadata": {},
   "outputs": [
    {
     "output_type": "execute_result",
     "data": {
      "text/plain": [
       "                     H1: Sign. Wave Height  H1: Peak Wave Period  \\\n",
       "1987-01-02 00:00:00               1.241691              4.431448   \n",
       "1987-01-02 03:00:00               1.191782              4.348592   \n",
       "1987-01-02 06:00:00               1.312802              4.628202   \n",
       "1987-01-02 09:00:00               1.391077              4.947310   \n",
       "1987-01-02 12:00:00               1.390714              5.141687   \n",
       "\n",
       "                     H1: Wave Period, T01  H1: Wave Period, T02  \\\n",
       "1987-01-02 00:00:00              4.003158              3.600824   \n",
       "1987-01-02 03:00:00              3.825048              3.460359   \n",
       "1987-01-02 06:00:00              3.862379              3.510044   \n",
       "1987-01-02 09:00:00              4.021970              3.649660   \n",
       "1987-01-02 12:00:00              4.079623              3.697309   \n",
       "\n",
       "                     H1: Peak Wave Direction  H1: Mean Wave Direction  \\\n",
       "1987-01-02 00:00:00                 2.758472               179.059540   \n",
       "1987-01-02 03:00:00                 2.145478               147.044052   \n",
       "1987-01-02 06:00:00                 1.838981               125.711472   \n",
       "1987-01-02 09:00:00                 1.838981               116.569534   \n",
       "1987-01-02 12:00:00                 1.685733               109.304710   \n",
       "\n",
       "                     H1: Dir. Stand. Deviation  H1: Surface elevation  \\\n",
       "1987-01-02 00:00:00                  47.365227               1.048086   \n",
       "1987-01-02 03:00:00                  47.487984               0.567817   \n",
       "1987-01-02 06:00:00                  38.015018              -0.760086   \n",
       "1987-01-02 09:00:00                  34.097504              -0.785966   \n",
       "1987-01-02 12:00:00                  32.115452               0.153562   \n",
       "\n",
       "                     H1: Current velocity, U  H1: Current velocity, V  \\\n",
       "1987-01-02 00:00:00                 0.563739                 0.085702   \n",
       "1987-01-02 03:00:00                -0.131477                 0.075603   \n",
       "1987-01-02 06:00:00                -0.587318                 0.000798   \n",
       "1987-01-02 09:00:00                -0.084821                -0.078303   \n",
       "1987-01-02 12:00:00                 0.419138                 0.013599   \n",
       "\n",
       "                     H1: Wind speed  H1: Wind direction  \n",
       "1987-01-02 00:00:00        8.472873          151.976395  \n",
       "1987-01-02 03:00:00        9.624996          133.838501  \n",
       "1987-01-02 06:00:00       10.602242          127.932243  \n",
       "1987-01-02 09:00:00       10.068106          122.474380  \n",
       "1987-01-02 12:00:00        9.798185          116.916252  "
      ],
      "text/html": "<div>\n<style scoped>\n    .dataframe tbody tr th:only-of-type {\n        vertical-align: middle;\n    }\n\n    .dataframe tbody tr th {\n        vertical-align: top;\n    }\n\n    .dataframe thead th {\n        text-align: right;\n    }\n</style>\n<table border=\"1\" class=\"dataframe\">\n  <thead>\n    <tr style=\"text-align: right;\">\n      <th></th>\n      <th>H1: Sign. Wave Height</th>\n      <th>H1: Peak Wave Period</th>\n      <th>H1: Wave Period, T01</th>\n      <th>H1: Wave Period, T02</th>\n      <th>H1: Peak Wave Direction</th>\n      <th>H1: Mean Wave Direction</th>\n      <th>H1: Dir. Stand. Deviation</th>\n      <th>H1: Surface elevation</th>\n      <th>H1: Current velocity, U</th>\n      <th>H1: Current velocity, V</th>\n      <th>H1: Wind speed</th>\n      <th>H1: Wind direction</th>\n    </tr>\n  </thead>\n  <tbody>\n    <tr>\n      <th>1987-01-02 00:00:00</th>\n      <td>1.241691</td>\n      <td>4.431448</td>\n      <td>4.003158</td>\n      <td>3.600824</td>\n      <td>2.758472</td>\n      <td>179.059540</td>\n      <td>47.365227</td>\n      <td>1.048086</td>\n      <td>0.563739</td>\n      <td>0.085702</td>\n      <td>8.472873</td>\n      <td>151.976395</td>\n    </tr>\n    <tr>\n      <th>1987-01-02 03:00:00</th>\n      <td>1.191782</td>\n      <td>4.348592</td>\n      <td>3.825048</td>\n      <td>3.460359</td>\n      <td>2.145478</td>\n      <td>147.044052</td>\n      <td>47.487984</td>\n      <td>0.567817</td>\n      <td>-0.131477</td>\n      <td>0.075603</td>\n      <td>9.624996</td>\n      <td>133.838501</td>\n    </tr>\n    <tr>\n      <th>1987-01-02 06:00:00</th>\n      <td>1.312802</td>\n      <td>4.628202</td>\n      <td>3.862379</td>\n      <td>3.510044</td>\n      <td>1.838981</td>\n      <td>125.711472</td>\n      <td>38.015018</td>\n      <td>-0.760086</td>\n      <td>-0.587318</td>\n      <td>0.000798</td>\n      <td>10.602242</td>\n      <td>127.932243</td>\n    </tr>\n    <tr>\n      <th>1987-01-02 09:00:00</th>\n      <td>1.391077</td>\n      <td>4.947310</td>\n      <td>4.021970</td>\n      <td>3.649660</td>\n      <td>1.838981</td>\n      <td>116.569534</td>\n      <td>34.097504</td>\n      <td>-0.785966</td>\n      <td>-0.084821</td>\n      <td>-0.078303</td>\n      <td>10.068106</td>\n      <td>122.474380</td>\n    </tr>\n    <tr>\n      <th>1987-01-02 12:00:00</th>\n      <td>1.390714</td>\n      <td>5.141687</td>\n      <td>4.079623</td>\n      <td>3.697309</td>\n      <td>1.685733</td>\n      <td>109.304710</td>\n      <td>32.115452</td>\n      <td>0.153562</td>\n      <td>0.419138</td>\n      <td>0.013599</td>\n      <td>9.798185</td>\n      <td>116.916252</td>\n    </tr>\n  </tbody>\n</table>\n</div>"
     },
     "metadata": {},
     "execution_count": 9
    }
   ],
   "source": [
    "MetoceanData.head()"
   ]
  },
  {
   "cell_type": "code",
   "execution_count": 12,
   "metadata": {},
   "outputs": [
    {
     "output_type": "execute_result",
     "data": {
      "text/plain": [
       "1987-01-02 00:00:00    1.241691\n",
       "1987-01-02 03:00:00    1.191782\n",
       "1987-01-02 06:00:00    1.312802\n",
       "1987-01-02 09:00:00    1.391077\n",
       "1987-01-02 12:00:00    1.390714\n",
       "                         ...   \n",
       "2020-12-30 09:00:00    1.783527\n",
       "2020-12-30 12:00:00    1.891021\n",
       "2020-12-30 15:00:00    1.813003\n",
       "2020-12-30 18:00:00    1.640041\n",
       "2020-12-30 21:00:00    1.533818\n",
       "Freq: 3H, Name: H1: Sign. Wave Height, Length: 99336, dtype: float64"
      ]
     },
     "metadata": {},
     "execution_count": 12
    }
   ],
   "source": [
    "MetoceanData['H1: Sign. Wave Height']"
   ]
  },
  {
   "cell_type": "code",
   "execution_count": null,
   "metadata": {},
   "outputs": [],
   "source": []
  }
 ]
}