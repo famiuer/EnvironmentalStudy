{
 "cells": [
  {
   "cell_type": "markdown",
   "source": [
    "# Examples and exercises\n",
    "\n",
    "## Environment\n",
    "\n",
    "\n",
    "### Current analysis\n",
    "\n",
    "#### Empirical Orthogonal Functions (EOF) \n",
    "\n",
    "[pyEOF](https://github.com/zzheng93/pyEOF) is used"
   ],
   "metadata": {}
  },
  {
   "cell_type": "markdown",
   "source": [],
   "metadata": {}
  }
 ],
 "metadata": {
  "kernelspec": {
   "name": "python3",
   "display_name": "Python 3.6.13 64-bit ('wafobuild36': conda)"
  },
  "language_info": {
   "codemirror_mode": {
    "name": "ipython",
    "version": 3
   },
   "file_extension": ".py",
   "mimetype": "text/x-python",
   "name": "python",
   "nbconvert_exporter": "python",
   "pygments_lexer": "ipython3",
   "version": "3.6.13"
  },
  "interpreter": {
   "hash": "44f7c2a897d56a673070ad24102ab91b008737301010a53d1cebdae67b7b2706"
  }
 },
 "nbformat": 4,
 "nbformat_minor": 4
}