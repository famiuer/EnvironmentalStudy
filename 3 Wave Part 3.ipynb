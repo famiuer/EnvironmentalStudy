{
 "metadata": {
  "language_info": {
   "codemirror_mode": {
    "name": "ipython",
    "version": 3
   },
   "file_extension": ".py",
   "mimetype": "text/x-python",
   "name": "python",
   "nbconvert_exporter": "python",
   "pygments_lexer": "ipython3",
   "version": "3.9.4"
  },
  "orig_nbformat": 2,
  "kernelspec": {
   "name": "python394jvsc74a57bd0d392f8be18b99e88ebf22ff66574448775b449f80db21cff78aa0a55d04d5114",
   "display_name": "Python 3.9.4 64-bit ('metocean': conda)"
  }
 },
 "nbformat": 4,
 "nbformat_minor": 2,
 "cells": [
  {
   "source": [
    "## Wave conditions examples\n",
    "\n",
    "input file: long term time series"
   ],
   "cell_type": "markdown",
   "metadata": {}
  },
  {
   "source": [
    "### 3.6.3 Joint ditribution of significant wave height and period\n",
    "\n"
   ],
   "cell_type": "markdown",
   "metadata": {}
  },
  {
   "cell_type": "code",
   "execution_count": null,
   "metadata": {},
   "outputs": [],
   "source": [
    "import pandas as pd \n",
    "import numpy as np  \n",
    "import matplotlib.pylab as plt \n",
    "import scipy  \n",
    "import scipy.misc\n",
    "%matplotlib inline\n",
    "from matplotlib.pylab import rcParams\n",
    "rcParams['figure.figsize'] = 8, 6\n",
    "import datetime\n",
    "import scipy.stats as sts\n",
    "plt.xkcd()"
   ]
  },
  {
   "cell_type": "code",
   "execution_count": null,
   "metadata": {},
   "outputs": [],
   "source": [
    "MetoData = pd.read_pickle('H1.pkl')"
   ]
  },
  {
   "cell_type": "code",
   "execution_count": null,
   "metadata": {},
   "outputs": [],
   "source": [
    "U10 = MetoData['H1: Wind speed']\n",
    "D10 = MetoData['H1: Wind direction']\n",
    "\n",
    "Hm0 = MetoData['H1: Sign. Wave Height']\n",
    "MWD = MetoData['H1: Mean Wave Direction']\n",
    "Tp  = MetoData['H1: Peak Wave Period']\n",
    "T01 = MetoData['H1: Wave Period, T01']\n",
    "T02 = MetoData['H1: Wave Period, T02']\n",
    "\n",
    "WL = MetoData['H1: Surface elevation']\n",
    "U  = MetoData['H1: Current velocity, U']\n",
    "V  = MetoData['H1: Current velocity, V']\n",
    "\n",
    "\n",
    "MetoData.head()"
   ]
  },
  {
   "cell_type": "code",
   "execution_count": null,
   "metadata": {},
   "outputs": [],
   "source": [
    "# Plot wind rose and wave rose\n",
    "from windrose import WindroseAxes\n",
    "\n",
    "ax = WindroseAxes.from_ax()\n",
    "ax.bar(D10, U10, normed=True, opening=0.8, edgecolor='white')\n",
    "ax.set_legend()"
   ]
  },
  {
   "cell_type": "code",
   "execution_count": null,
   "metadata": {},
   "outputs": [],
   "source": [
    "# Plot  wave rose\n",
    "\n",
    "\n",
    "ax = WindroseAxes.from_ax()\n",
    "ax.bar(MWD, Hm0, normed=True, opening=0.8, edgecolor='white')\n",
    "ax.set_legend()"
   ]
  },
  {
   "cell_type": "code",
   "execution_count": null,
   "metadata": {},
   "outputs": [],
   "source": [
    "# annual maximum\n",
    "amax = MetoData.loc[MetoData.groupby(MetoData.index.year)['H1: Sign. Wave Height'].idxmax()]\n",
    "Hm0_amax = amax['H1: Sign. Wave Height']\n",
    "\n",
    "\n",
    "plt.plot(MetoData['H1: Sign. Wave Height'], label = 'Hm0')\n",
    "plt.plot(amax['H1: Sign. Wave Height'],'r*', label = 'Hm0 Annual maximum')\n",
    "plt.legend()"
   ]
  },
  {
   "cell_type": "code",
   "execution_count": null,
   "metadata": {},
   "outputs": [],
   "source": []
  },
  {
   "cell_type": "code",
   "execution_count": null,
   "metadata": {},
   "outputs": [],
   "source": [
    "# pip install reliability\n",
    "\n",
    "from reliability.Fitters import Fit_Weibull_3P\n",
    "\n",
    "best= Fit_Weibull_3P(failures=Hm0_amax.values,show_probability_plot =True)\n",
    "#plt.xscale('linear')\n",
    "#plt.xlim([0,10])\n",
    "HAlpha=best.alpha\n",
    "HBeta=best.beta\n",
    "HGamma=best.gamma\n",
    "#plt.xscale('linear')\n",
    "#plt.yscale('linear')\n",
    "best\n",
    "del best"
   ]
  },
  {
   "cell_type": "code",
   "execution_count": null,
   "metadata": {},
   "outputs": [],
   "source": [
    "from reliability.Fitters import Fit_Lognormal_2P\n",
    "LongtermTz=MetoceanData[Tpname].values\n",
    "T1_2=MetoceanData[(MetoceanData[Hsname] < 2.7 )& (MetoceanData[Hsname] > 2.5)]\n",
    "\n",
    "best= Fit_Lognormal_2P(failures=T1_2[Tpname].values,print_results=True,show_probability_plot =True)\n",
    "plt.xscale('linear')\n",
    "plt.yscale('linear')\n"
   ]
  },
  {
   "cell_type": "code",
   "execution_count": null,
   "metadata": {},
   "outputs": [],
   "source": [
    "# this block calculate mu and sigma depend on Hs\n",
    "LongtermTp=MetoceanData[Tpname].values\n",
    "\n",
    "HsMax=max(Hs)\n",
    "TzMax=max(Tp)\n",
    "\n",
    "H_s=np.linspace(0,HsMax*0.8,num=51)\n",
    "H_s[-1]=10\n",
    "T_p=np.linspace(0,TzMax*0.9,num=61)\n",
    "Condi_mu=np.zeros(len(H_s))\n",
    "Condi_sigma=np.zeros(len(H_s))\n",
    "for ih in range(1,len(H_s)-1):\n",
    "    down_lim=H_s[ih]\n",
    "    up_lim=H_s[ih+1]\n",
    "    T1_2=MetoceanData[(MetoceanData[Hsname] < up_lim )& (MetoceanData[Hsname] >= down_lim)]\n",
    "    best= Fit_Lognormal_2P(failures=T1_2[Tpname].values,print_results=False,show_probability_plot =False)\n",
    "    Condi_mu[ih]=best.mu\n",
    "    Condi_sigma[ih]=best.sigma;\n",
    "Condi_mu[-1]=Condi_mu[-2]\n",
    "Condi_mu[0]=Condi_mu[1]\n",
    "Condi_sigma[-1]=Condi_sigma[-2]\n",
    "Condi_sigma[0]=Condi_sigma[1]\n"
   ]
  },
  {
   "cell_type": "code",
   "execution_count": null,
   "metadata": {},
   "outputs": [],
   "source": [
    "#fit mu to get a0,a1,a2\n",
    "afit,out=scipy.optimize.curve_fit(lambda t,a0,a1,a2: a0+a1*t**a2,  H_s,  Condi_mu)\n",
    "#bfit=scipy.optimize.curve_fit(lambda t,b0,b1,b2: -(b0+b1*np.exp(b2*t)),  H_s,  Condi_sigma)\n",
    "plt.plot(H_s,Condi_mu,'r*', label = 'Data')\n",
    "plt.plot(H_s,afit[0]+afit[1]*H_s**afit[2], label = 'Fit')\n",
    "afit\n",
    "plt.legend()"
   ]
  },
  {
   "cell_type": "code",
   "execution_count": null,
   "metadata": {},
   "outputs": [],
   "source": [
    "#fit mu to get a0,a1,a2\n",
    "#P0 in curve fitting is important \n",
    "bfit,_=scipy.optimize.curve_fit(lambda t,b0,b1,b2:(b0+b1*np.exp(b2*t)),  H_s,  Condi_sigma, p0=(0.07, 0.1288,-0.0214),maxfev=3000)\n",
    "plt.plot(H_s,Condi_sigma,'r*', label = 'Data')\n",
    "plt.plot(H_s,bfit[0]+bfit[1]*np.exp(bfit[2]*H_s), label = 'Fit')\n",
    "bfit\n",
    "plt.legend()"
   ]
  },
  {
   "cell_type": "code",
   "execution_count": null,
   "metadata": {},
   "outputs": [],
   "source": [
    "#\n",
    "a0=afit[0]\n",
    "a1=afit[1]\n",
    "a2=afit[2]\n",
    "b0=bfit[0]\n",
    "b1=bfit[1]\n",
    "b2=bfit[2]\n",
    "\n",
    "H_s=np.linspace(0,10,num=101)\n",
    "T_p=np.linspace(0,15,num=151)\n",
    "HT_dens=np.zeros([len(H_s),len(T_p)])\n",
    "\n",
    "\n",
    "T_condi_mu=a0+a1*H_s**a2\n",
    "T_condi_sigma=b0+b1*np.exp(1)**(b2*H_s)\n",
    "fHs=HBeta/HAlpha*((H_s-HGamma)/HAlpha)**(HBeta-1)*np.exp(-((H_s-HGamma)/HAlpha)**HBeta)\n",
    "#HT_dens\n",
    "#H_s[1]\n",
    "#plt.plot(H_s,fHs)\n",
    "#plt.hist(LongtermHs,density=True,bins=50)\n",
    "#fHs=HBeta/HAlpha*((H_s[ih]-HGamma)/HAlpha)**(HBeta-1)*np.exp(-((H_s[ih]-HGamma)/HAlpha)**HBeta);\n",
    "\n",
    "for ih in range(1,len(H_s)):\n",
    "    for it in range(1,len(T_p)):\n",
    "        T_condi=1./(T_condi_sigma[ih]*T_p[it]*np.sqrt(2*np.pi))*np.exp(-((np.log(T_p[it])-T_condi_mu[ih])**2)/((2*T_condi_sigma[ih])**2))\n",
    "        HT_dens[ih,it]=T_condi*fHs[ih];\n",
    "        \n"
   ]
  },
  {
   "cell_type": "code",
   "execution_count": null,
   "metadata": {},
   "outputs": [],
   "source": [
    "import matplotlib.pyplot as plt\n",
    "X, Y = np.meshgrid(T_p,H_s)\n",
    "\n",
    "plt.scatter(Tp,Hs, cmap ='Greys' , alpha=0.2)\n",
    "cs=plt.contourf(X, Y,HT_dens,levels=[ 0.1, 0.2,0.3,0.4,.5,.6,.7,.8,.9,],cmap ='coolwarm',alpha=0.3)\n",
    "plt.colorbar()\n",
    "plt.xlim(0,25)\n",
    "plt.ylim(0,10)\n",
    "\n",
    "plt.xlabel('Wave Period Tp [s]')\n",
    "plt.ylabel('Wave Height Hs [m]')\n",
    "\n",
    "plt.clabel(cs)\n",
    "\n",
    "\n"
   ]
  },
  {
   "cell_type": "code",
   "execution_count": null,
   "metadata": {},
   "outputs": [],
   "source": [
    "from viroconcom.fitting import Fit\n",
    "from viroconcom.contours import IFormContour\n",
    "#### Environmental Countour\n",
    "plt.scatter(Hs, Tp)\n",
    "plt.xlabel('significant wave height [m]')\n",
    "plt.ylabel('spectral peak period [s]')\n",
    "plt.show()"
   ]
  },
  {
   "cell_type": "code",
   "execution_count": null,
   "metadata": {},
   "outputs": [],
   "source": [
    "dist_description_0 = {'name': 'Weibull_3p', 'dependency': (None, None, None), 'width_of_intervals': 1}\n",
    "dist_description_1 = {'name': 'Lognormal_SigmaMu', 'dependency': (0, None, 0), 'functions': ('exp3', None, 'power3')}\n",
    "#distribution depends on the variable"
   ]
  },
  {
   "cell_type": "code",
   "execution_count": null,
   "metadata": {},
   "outputs": [],
   "source": [
    "my_fit = Fit((Hs, Tp), (dist_description_0, dist_description_1))\n"
   ]
  },
  {
   "cell_type": "code",
   "execution_count": null,
   "metadata": {},
   "outputs": [],
   "source": [
    "# For panel A: use a histogram.\n",
    "fig = plt.figure(figsize=(9, 4.5))\n",
    "ax_1 = fig.add_subplot(121)\n",
    "param_grid = my_fit.multiple_fit_inspection_data[0].scale_at\n",
    "plt.hist(my_fit.multiple_fit_inspection_data[0].scale_samples[0], density=1,\n",
    "         label='sample')\n",
    "shape = my_fit.mul_var_dist.distributions[0].shape(0)\n",
    "scale = my_fit.mul_var_dist.distributions[0].scale(0)\n",
    "plt.plot(np.linspace(0, 20, 100),\n",
    "         sts.weibull_min.pdf(np.linspace(0, 20, 100), c=shape, loc=0,\n",
    "                             scale=scale),\n",
    "         label='fitted Weibull distribution')\n",
    "plt.xlabel('significant wave height [m]')\n",
    "plt.ylabel('probability density [-]')\n",
    "plt.legend()\n",
    "# For panel B: use a Q-Q plot.\n",
    "ax_2 = fig.add_subplot(122)\n",
    "sts.probplot(my_fit.multiple_fit_inspection_data[0].scale_samples[0],\n",
    "             sparams=(shape, 0, scale), dist=sts.weibull_min, plot=plt)\n",
    "ax_2.get_lines()[0].set_markerfacecolor('#1f77ba') # Adapt to v2.0 colors\n",
    "ax_2.get_lines()[0].set_markeredgecolor('#1f77ba') # Adapt to v2.0 colors\n",
    "ax_2.get_lines()[1].set_color('#ff7f02') # Adapt to v2.0 colors\n",
    "plt.title(\"\")\n",
    "plt.xlabel('theoretical quantiles [m]')\n",
    "plt.ylabel('data quantiles [m]')\n",
    "plt.show()"
   ]
  },
  {
   "cell_type": "code",
   "execution_count": null,
   "metadata": {},
   "outputs": [],
   "source": [
    "fig = plt.figure(figsize=(10, 8))\n",
    "ax_1 = fig.add_subplot(221)\n",
    "title1 = ax_1.set_title('Tp-Distribution for 0≤Hs<2')\n",
    "param_grid = my_fit.multiple_fit_inspection_data[1].scale_at\n",
    "ax1_hist = ax_1.hist(my_fit.multiple_fit_inspection_data[1].scale_samples[0], density=1)\n",
    "shape = my_fit.mul_var_dist.distributions[1].shape(0)\n",
    "scale = my_fit.mul_var_dist.distributions[1].scale(param_grid[0])\n",
    "ax1_plot = ax_1.plot(np.linspace(0, 20, 100), sts.lognorm.pdf(np.linspace(0, 20, 100), s=shape, scale=scale))\n",
    "\n",
    "ax_2 = fig.add_subplot(222)\n",
    "title2 = ax_2.set_title('Tp-Distribution for 2≤Hs<4')\n",
    "ax2_hist = ax_2.hist(my_fit.multiple_fit_inspection_data[1].scale_samples[1], density=1)\n",
    "shape = my_fit.mul_var_dist.distributions[1].shape(0)\n",
    "scale = my_fit.mul_var_dist.distributions[1].scale(param_grid[1])\n",
    "ax2_plot = ax_2.plot(np.linspace(0, 20, 100), sts.lognorm.pdf(np.linspace(0, 20, 100), s=shape, scale=scale))\n",
    "\n",
    "ax_3 = fig.add_subplot(223)\n",
    "title3 = ax_3.set_title('Tp-Distribution for 4≤Hs<6')\n",
    "ax3_hist = ax_3.hist(my_fit.multiple_fit_inspection_data[1].scale_samples[2], density=1)\n",
    "shape = my_fit.mul_var_dist.distributions[1].shape(0)\n",
    "scale = my_fit.mul_var_dist.distributions[1].scale(param_grid[2])\n",
    "ax3_plot = ax_3.plot(np.linspace(0, 20, 100), sts.lognorm.pdf(np.linspace(0, 20, 100), s=shape, scale=scale))\n",
    "ax_3.set_xlabel('spectral peak period [s]')\n",
    "\n",
    "ax_4 = fig.add_subplot(224)\n",
    "title4 = ax_4.set_title('Tp-Distribution for 6≤Hs<8')\n",
    "ax4_hist = ax_4.hist(my_fit.multiple_fit_inspection_data[1].scale_samples[3], density=1)\n",
    "shape = my_fit.mul_var_dist.distributions[1].shape(0)\n",
    "scale = my_fit.mul_var_dist.distributions[1].scale(param_grid[3])\n",
    "ax4_plot = ax_4.plot(np.linspace(0, 20, 100), sts.lognorm.pdf(np.linspace(0, 20, 100), s=shape, scale=scale))\n",
    "ax_4.set_xlabel('spectral peak period [s]')\n",
    "plt.show()\n",
    "\n",
    "fig = plt.figure()\n",
    "x_1 = np.linspace(0, 12, 100)\n",
    "plt.plot(param_grid, my_fit.multiple_fit_inspection_data[1].scale_value, 'x',\n",
    "         label='discrete scale values')\n",
    "plt.plot(x_1, my_fit.mul_var_dist.distributions[1].scale(x_1),\n",
    "         label='fitted dependence function')\n",
    "plt.xlabel('significant wave height [m]')\n",
    "plt.ylabel('scale parameter (Tp-distribution)')\n",
    "plt.legend()\n",
    "plt.show()"
   ]
  },
  {
   "cell_type": "code",
   "execution_count": null,
   "metadata": {},
   "outputs": [],
   "source": [
    "\n",
    "fig = plt.figure()\n",
    "x_1 = np.linspace(0, 12, 100)\n",
    "plt.plot(param_grid, my_fit.multiple_fit_inspection_data[1].scale_value, 'x',\n",
    "         label='discrete scale values')\n",
    "plt.plot(x_1, my_fit.mul_var_dist.distributions[1].scale(x_1),\n",
    "         label='fitted dependence function')\n",
    "plt.xlabel('significant wave height [m]')\n",
    "plt.ylabel('scale parameter (Tp-distribution) [-]')\n",
    "plt.legend()\n",
    "plt.show()"
   ]
  },
  {
   "cell_type": "code",
   "execution_count": null,
   "metadata": {},
   "outputs": [],
   "source": [
    "iform_contour = IFormContour(my_fit.mul_var_dist, 10, 1, 1000)\n",
    "plt.scatter(Hs, Tp, label='sample')\n",
    "plt.plot(iform_contour.coordinates[0][0], iform_contour.coordinates[0][1],\n",
    "            ':k', label='10year')\n",
    "iform_contour = IFormContour(my_fit.mul_var_dist, 50, 1, 1000)\n",
    "plt.plot(iform_contour.coordinates[0][0], iform_contour.coordinates[0][1],\n",
    "            ':b', label='50year')\n",
    "iform_contour = IFormContour(my_fit.mul_var_dist, 100, 1, 1000)\n",
    "plt.plot(iform_contour.coordinates[0][0], iform_contour.coordinates[0][1],\n",
    "            ':r', label='100year')\n",
    "\n",
    "plt.xlabel('significant wave height [m]',fontsize= 20)\n",
    "plt.ylabel('spectral peak period [s]',fontsize= 20)\n",
    "plt.legend()\n",
    "plt.show()"
   ]
  },
  {
   "cell_type": "code",
   "execution_count": null,
   "metadata": {},
   "outputs": [],
   "source": [
    "iform_contour = IFormContour(my_fit.mul_var_dist, 10, 1, 50)\n",
    "plt.scatter(Hs, Tp, label='sample')\n",
    "plt.plot(iform_contour.coordinates[0][0], iform_contour.coordinates[0][1],\n",
    "            ':k', label='10year')\n",
    "iform_contour = IFormContour(my_fit.mul_var_dist, 50, 1, 50)\n",
    "plt.plot(iform_contour.coordinates[0][0], iform_contour.coordinates[0][1],\n",
    "            ':b', label='50year')\n",
    "iform_contour = IFormContour(my_fit.mul_var_dist, 100, 1, 50)\n",
    "plt.plot(iform_contour.coordinates[0][0], iform_contour.coordinates[0][1],\n",
    "            ':r', label='100year')\n",
    "\n",
    "plt.xlabel('significant wave height [m]',fontsize= 20)\n",
    "plt.ylabel('spectral peak period [s]',fontsize= 20)\n",
    "plt.legend()\n",
    "plt.show()"
   ]
  },
  {
   "cell_type": "code",
   "execution_count": null,
   "metadata": {},
   "outputs": [],
   "source": []
  }
 ]
}